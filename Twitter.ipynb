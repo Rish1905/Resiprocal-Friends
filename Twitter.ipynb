{
 "cells": [
  {
   "cell_type": "code",
   "execution_count": 1,
   "metadata": {
    "collapsed": true
   },
   "outputs": [],
   "source": [
    "import json\n",
    "import pandas as pd\n",
    "import community\n",
    "import networkx as nx\n",
    "import matplotlib.pyplot as plt\n",
    "import csv"
   ]
  },
  {
   "cell_type": "code",
   "execution_count": 2,
   "metadata": {
    "collapsed": true
   },
   "outputs": [],
   "source": [
    "from twitter import *"
   ]
  },
  {
   "cell_type": "code",
   "execution_count": 3,
   "metadata": {
    "collapsed": true
   },
   "outputs": [],
   "source": [
    "# Loading my authentication tokens\n",
    "with open('auth_dict','r') as f:\n",
    "    twtr_auth = json.load(f)\n",
    "\n",
    "# To make it more readable, lets store\n",
    "# the OAuth credentials in strings first.\n",
    "CONSUMER_KEY = twtr_auth['consumer_key']\n",
    "CONSUMER_SECRET = twtr_auth['consumer_secret']\n",
    "OAUTH_TOKEN = twtr_auth['token']\n",
    "OAUTH_TOKEN_SECRET = twtr_auth['token_secret']\n",
    "    \n",
    "# Then, we store the OAuth object in \"auth\"\n",
    "auth = OAuth(OAUTH_TOKEN, OAUTH_TOKEN_SECRET,\n",
    "                           CONSUMER_KEY, CONSUMER_SECRET)\n",
    "# Notice that there are four tokens - you need to create these in the\n",
    "# Twitter Apps dashboard after you have created your own \"app\".\n",
    "\n",
    "# We now create the twitter search object.\n",
    "t = Twitter(auth=auth)"
   ]
  },
  {
   "cell_type": "code",
   "execution_count": 4,
   "metadata": {
    "collapsed": true
   },
   "outputs": [],
   "source": [
    "import sys\n",
    "import time\n",
    "from twitter.api import TwitterHTTPError\n",
    "from urllib.error import URLError\n",
    "from http.client import BadStatusLine\n",
    "\n",
    "def make_twitter_request(twitter_api_func, max_errors=10, *args, **kw):\n",
    "    # A nested helper function that handles common HTTPErrors. Return an updated\n",
    "    # value for wait_period if the problem is a 500 level error. Block until the\n",
    "    # rate limit is reset if it's a rate limiting issue (429 error). Returns None\n",
    "    # for 401 and 404 errors, which requires special handling by the caller.\n",
    "    def handle_twitter_http_error(e, wait_period=2, sleep_when_rate_limited=True):\n",
    "        if wait_period > 3600: # Seconds\n",
    "            print('Too many retries. Quitting.', file=sys.stderr)\n",
    "            raise e\n",
    "        if e.e.code == 401:\n",
    "            return None\n",
    "        elif e.e.code == 404:\n",
    "            print('Encountered 404 Error (Not Found)', file=sys.stderr)\n",
    "            return None\n",
    "        elif e.e.code == 429:\n",
    "            print('Encountered 429 Error (Rate Limit Exceeded)', file=sys.stderr)\n",
    "            if sleep_when_rate_limited:\n",
    "                print(\"Retrying in 15 minutes...ZzZ...\", file=sys.stderr)\n",
    "                sys.stderr.flush()\n",
    "                time.sleep(60*15 + 5)\n",
    "                print('...ZzZ...Awake now and trying again.', file=sys.stderr)\n",
    "                return 2\n",
    "            else:\n",
    "                raise e # Caller must handle the rate limiting issue\n",
    "        elif e.e.code in (500, 502, 503, 504):\n",
    "            print('Encountered %i Error. Retrying in %i seconds' % (e.e.code, wait_period), file=sys.stderr)\n",
    "            time.sleep(wait_period)\n",
    "            wait_period *= 1.5\n",
    "            return wait_period\n",
    "        else:\n",
    "            raise e\n",
    "\n",
    "    # End of nested helper function\n",
    "\n",
    "    wait_period = 2\n",
    "    error_count = 0\n",
    "    while True:\n",
    "        try:\n",
    "            return twitter_api_func(*args, **kw)\n",
    "        except TwitterHTTPError as e:\n",
    "            error_count = 0\n",
    "            wait_period = handle_twitter_http_error(e, wait_period)\n",
    "            if wait_period is None:\n",
    "                return\n",
    "        except URLError as e:\n",
    "            error_count += 1\n",
    "            print(\"URLError encountered. Continuing.\", file=sys.stderr)\n",
    "            if error_count > max_errors:\n",
    "                print(\"Too many consecutive errors...bailing out.\", file=sys.stderr)\n",
    "                raise\n",
    "        except BadStatusLine as e:\n",
    "            error_count += 1\n",
    "            print >> sys.stderr, \"BadStatusLine encountered. Continuing.\"\n",
    "            if error_count > max_errors:\n",
    "                print(\"Too many consecutive errors...bailing out.\", file=sys.stderr)\n",
    "                raise"
   ]
  },
  {
   "cell_type": "code",
   "execution_count": 5,
   "metadata": {
    "collapsed": true
   },
   "outputs": [],
   "source": [
    "# This will let us create new partial\n",
    "# functions with arguments set to \n",
    "# certain values.\n",
    "from functools import partial\n",
    "\n",
    "# This was maxint.\n",
    "# There is no longer a maxint (in Python 3)\n",
    "from sys import maxsize\n",
    "\n",
    "\n",
    "def get_friends_followers_ids(twitter_api, screen_name=None, user_id=None,\n",
    "                                friends_limit=maxsize, followers_limit=maxsize):\n",
    "    # Must have either screen_name or user_id (logical xor)\n",
    "    assert (screen_name != None) != (user_id != None), \\\n",
    "    \"Must have screen_name or user_id, but not both\"\n",
    "    \n",
    "    # You can also do this with a function closure.\n",
    "    get_friends_ids = partial(make_twitter_request, twitter_api.friends.ids,\n",
    "                                count=100)\n",
    "    get_followers_ids = partial(make_twitter_request, twitter_api.followers.ids,\n",
    "                                count=100)\n",
    "    friends_ids, followers_ids = [], []\n",
    "    for twitter_api_func, limit, ids, label in [\n",
    "            [get_friends_ids, friends_limit, friends_ids, \"friends\"],\n",
    "            [get_followers_ids, followers_limit, followers_ids, \"followers\"]\n",
    "            ]:\n",
    "        #LOOK HERE! This little line is important.\n",
    "        if limit == 0: continue\n",
    "        cursor = -1\n",
    "        while cursor != 0:\n",
    "            # Use make_twitter_request via the partially bound callable...\n",
    "            if screen_name:\n",
    "                response = twitter_api_func(screen_name=screen_name, cursor=cursor)\n",
    "            else: # user_id\n",
    "                response = twitter_api_func(user_id=user_id, cursor=cursor)\n",
    "            if response is not None:\n",
    "                ids += response['ids']\n",
    "                cursor = response['next_cursor']\n",
    "            print('Fetched {0} total {1} ids for {2}'.format(len(ids),\n",
    "                    label, (user_id or screen_name), file=sys.stderr))\n",
    "            if len(ids) >= limit or response is None:\n",
    "                break\n",
    "    # Do something useful with the IDs, like store them to disk...\n",
    "    return friends_ids[:friends_limit], followers_ids[:followers_limit]\n"
   ]
  },
  {
   "cell_type": "code",
   "execution_count": 6,
   "metadata": {
    "collapsed": true
   },
   "outputs": [],
   "source": [
    "# Create a mostly empty data frame,\n",
    "# and write it to a CSV file.\n",
    "df = pd.DataFrame(columns=['ID','followers'])\n",
    "df.to_csv('followers.csv', index=False)\n",
    "\n",
    "# Our function\n",
    "def save_followers(fid, followers):\n",
    "    df = pd.DataFrame([[fid, followers]], columns=['ID','followers'])\n",
    "    with open('followers.csv', 'a') as f:\n",
    "        df.to_csv(f,header=False, index=False)"
   ]
  },
  {
   "cell_type": "code",
   "execution_count": 6,
   "metadata": {
    "collapsed": true
   },
   "outputs": [],
   "source": [
    "import networkx as nx\n",
    "import numpy as np\n",
    "check = set()\n",
    "limit_100 = set()\n",
    "def crawl_followers(twitter_api, screen_name, depth=4, limit=100):\n",
    "    \n",
    "    # Resolve the ID for screen_name and start working with IDs for consistency\n",
    "    seed_id = str(twitter_api.users.show(screen_name=screen_name)['id'])\n",
    "    friends , followers = get_friends_followers_ids(twitter_api, user_id=seed_id,\n",
    "                        friends_limit=limit, followers_limit=limit)\n",
    "    \n",
    "    respro = set(friends) & set(followers)\n",
    "    seed_id = int(seed_id)\n",
    "    # Store a seed_id => _follower_ids mapping in MongoDB\n",
    "    next_queue = Only_five_friends(twitter_api, user_ids=respro)\n",
    "    save_followers(seed_id, ','.join([str(x) for x in next_queue]))\n",
    "    limit_100.add(seed_id)\n",
    "    \n",
    "    check.add(seed_id)\n",
    "    for x in next_queue:\n",
    "        limit_100.add(x)\n",
    "    d = 1\n",
    "    # Note that in the example in the next cell,\n",
    "    # we never enter this loop.\n",
    "    while d < depth:\n",
    "        if(len(limit_100) >100):\n",
    "            return\n",
    "        d += 1\n",
    "        # Reset the next_queue so that we can\n",
    "        # start building up the next level\n",
    "        # of followers-of-followers\n",
    "        (queue, next_queue) = (next_queue, [])\n",
    "        # Loop through the current\n",
    "        # level of followers\n",
    "        for fid in queue:\n",
    "            if(len(limit_100) >100):\n",
    "                return\n",
    "            if not(fid in check):\n",
    "                friends_ids, follower_ids = get_friends_followers_ids(twitter_api, user_id=fid,\n",
    "                                    friends_limit=limit, followers_limit=limit)\n",
    "                # Store an ID with a string recording\n",
    "                # IDs of followers of the user with ID \"fid\"\n",
    "                respro2 = set(friends_ids) & set(follower_ids)\n",
    "                next_queue1 = Only_five_friends(twitter_api, user_ids=respro2)\n",
    "                save_followers(str(fid), ','.join([str(x) for x in next_queue1]))\n",
    "\n",
    "                for x in next_queue1:\n",
    "                    limit_100.add(x)\n",
    "                check.add(fid)\n",
    "\n",
    "                # Extending the list\n",
    "                next_queue += next_queue1"
   ]
  },
  {
   "cell_type": "markdown",
   "metadata": {},
   "source": [
    "### Only_five_friends() will return Five friends from the list of resiprocal friends"
   ]
  },
  {
   "cell_type": "code",
   "execution_count": 7,
   "metadata": {
    "collapsed": true
   },
   "outputs": [],
   "source": [
    "def Only_five_friends(t, user_ids):\n",
    "    values = []\n",
    "    result = set()\n",
    "    if not(len(user_ids) > 0):\n",
    "        return result\n",
    "    user_ids_1 = ','.join([str(x) for x in user_ids])\n",
    "    temp = t.users.lookup(user_id = str(user_ids_1))\n",
    "\n",
    "    for a in temp:\n",
    "        values.append(a['followers_count'])\n",
    "    \n",
    "    followers_count = dict (zip(user_ids,values))\n",
    "    temp = sorted(followers_count.items(), key=lambda x: x[1], reverse=True)\n",
    "    \n",
    "    count = 0\n",
    "    for elem in temp:\n",
    "        if(count >= 5):\n",
    "            break\n",
    "        result.add(elem[0])\n",
    "        count += 1\n",
    "    return result"
   ]
  },
  {
   "cell_type": "code",
   "execution_count": 9,
   "metadata": {},
   "outputs": [
    {
     "name": "stdout",
     "output_type": "stream",
     "text": [
      "Fetched 78 total friends ids for 1631758140\n",
      "Fetched 29 total followers ids for 1631758140\n",
      "Fetched 100 total friends ids for 796830388610011136\n",
      "Fetched 100 total followers ids for 796830388610011136\n",
      "Fetched 100 total friends ids for 130971502\n",
      "Fetched 100 total followers ids for 130971502\n",
      "Fetched 100 total friends ids for 474436312\n",
      "Fetched 100 total followers ids for 474436312\n",
      "Fetched 100 total friends ids for 252766425\n",
      "Fetched 100 total followers ids for 252766425\n",
      "Fetched 100 total friends ids for 14246171\n",
      "Fetched 100 total followers ids for 14246171\n",
      "Fetched 100 total friends ids for 278802252\n",
      "Fetched 100 total followers ids for 278802252\n",
      "Fetched 100 total friends ids for 386263630\n",
      "Fetched 100 total followers ids for 386263630\n",
      "Fetched 100 total friends ids for 330509973\n",
      "Fetched 100 total followers ids for 330509973\n",
      "Fetched 100 total friends ids for 179732982\n",
      "Fetched 100 total followers ids for 179732982\n",
      "Fetched 100 total friends ids for 42070873\n",
      "Fetched 100 total followers ids for 42070873\n",
      "Fetched 100 total friends ids for 205299497\n",
      "Fetched 100 total followers ids for 205299497\n",
      "Fetched 100 total friends ids for 1390794001\n",
      "Fetched 100 total followers ids for 1390794001\n",
      "Fetched 100 total friends ids for 2714613684\n",
      "Fetched 100 total followers ids for 2714613684\n",
      "Fetched 100 total friends ids for 365230261\n",
      "Fetched 100 total followers ids for 365230261\n"
     ]
    },
    {
     "name": "stderr",
     "output_type": "stream",
     "text": [
      "Encountered 429 Error (Rate Limit Exceeded)\n",
      "Retrying in 15 minutes...ZzZ...\n",
      "...ZzZ...Awake now and trying again.\n"
     ]
    },
    {
     "name": "stdout",
     "output_type": "stream",
     "text": [
      "Fetched 100 total friends ids for 2463653724\n",
      "Fetched 100 total followers ids for 2463653724\n",
      "Fetched 100 total friends ids for 31184038\n",
      "Fetched 100 total followers ids for 31184038\n",
      "Fetched 100 total friends ids for 369352648\n",
      "Fetched 100 total followers ids for 369352648\n",
      "Fetched 100 total friends ids for 442296361\n",
      "Fetched 100 total followers ids for 442296361\n",
      "Fetched 100 total friends ids for 153966123\n",
      "Fetched 100 total followers ids for 153966123\n",
      "Fetched 100 total friends ids for 19226515\n",
      "Fetched 100 total followers ids for 19226515\n",
      "Fetched 100 total friends ids for 705489583870377984\n",
      "Fetched 100 total followers ids for 705489583870377984\n",
      "Fetched 100 total friends ids for 710337844267462657\n",
      "Fetched 100 total followers ids for 710337844267462657\n",
      "Fetched 100 total friends ids for 19327500\n",
      "Fetched 100 total followers ids for 19327500\n",
      "Fetched 100 total friends ids for 223671790\n",
      "Fetched 100 total followers ids for 223671790\n",
      "Fetched 100 total friends ids for 409719505\n",
      "Fetched 100 total followers ids for 409719505\n",
      "Fetched 100 total friends ids for 713563076692279297\n",
      "Fetched 100 total followers ids for 713563076692279297\n",
      "Fetched 100 total friends ids for 15996553\n",
      "Fetched 100 total followers ids for 15996553\n",
      "Fetched 100 total friends ids for 16939148\n",
      "Fetched 100 total followers ids for 16939148\n",
      "Fetched 21 total friends ids for 3437247321\n",
      "Fetched 11 total followers ids for 3437247321\n"
     ]
    },
    {
     "name": "stderr",
     "output_type": "stream",
     "text": [
      "Encountered 429 Error (Rate Limit Exceeded)\n",
      "Retrying in 15 minutes...ZzZ...\n",
      "...ZzZ...Awake now and trying again.\n"
     ]
    },
    {
     "name": "stdout",
     "output_type": "stream",
     "text": [
      "Fetched 100 total friends ids for 358076778\n",
      "Fetched 100 total followers ids for 358076778\n",
      "Fetched 100 total friends ids for 825863065350529024\n",
      "Fetched 100 total followers ids for 825863065350529024\n",
      "Fetched 100 total friends ids for 2486420780\n",
      "Fetched 100 total followers ids for 2486420780\n"
     ]
    }
   ],
   "source": [
    "screen_name = \"SyviiS\"\n",
    "crawl_followers(t, screen_name, depth=4, limit=100)"
   ]
  },
  {
   "cell_type": "markdown",
   "metadata": {},
   "source": [
    "### Below will read the CSV file of the seed_id and draw graph and edges according to it"
   ]
  },
  {
   "cell_type": "code",
   "execution_count": 12,
   "metadata": {
    "collapsed": true
   },
   "outputs": [],
   "source": [
    "#Reference taken from https://docs.python.org/2/library/csv.html\n",
    "G = nx.Graph()\n",
    "with open('followers.csv' ,'r', newline='') as file:\n",
    "    element = csv.DictReader(file)\n",
    "    for elem in element:\n",
    "        for e in elem['followers'].split(','):\n",
    "            if e != '':\n",
    "                G.add_edge(elem['ID'],e)"
   ]
  },
  {
   "cell_type": "markdown",
   "metadata": {},
   "source": [
    "### Best Partition is used  in the following code which will draw in different color communities"
   ]
  },
  {
   "cell_type": "code",
   "execution_count": 11,
   "metadata": {},
   "outputs": [
    {
     "data": {
      "image/png": "[encoded data removed]",
      "text/plain": [
       "<matplotlib.figure.Figure at 0x1db8c5a79b0>"
      ]
     },
     "metadata": {},
     "output_type": "display_data"
    }
   ],
   "source": [
    "# Reference from Stack-Over-Flow\n",
    "partition = community.best_partition(G)  # compute communities\n",
    "\n",
    "pos = nx.spring_layout(G)  # compute graph layout\n",
    "plt.figure(figsize=(10, 10))\n",
    "plt.axis('off')\n",
    "nx.draw_networkx_nodes(G, pos, node_size=200, cmap=plt.cm.RdYlBu, node_color=list(partition.values()))\n",
    "nx.draw_networkx_edges(G, pos, alpha=0.5)\n",
    "plt.show(G)"
   ]
  }
 ],
 "metadata": {
  "kernelspec": {
   "display_name": "Python 3",
   "language": "python",
   "name": "python3"
  },
  "language_info": {
   "codemirror_mode": {
    "name": "ipython",
    "version": 3
   },
   "file_extension": ".py",
   "mimetype": "text/x-python",
   "name": "python",
   "nbconvert_exporter": "python",
   "pygments_lexer": "ipython3",
   "version": "3.6.3"
  }
 },
 "nbformat": 4,
 "nbformat_minor": 2
}
